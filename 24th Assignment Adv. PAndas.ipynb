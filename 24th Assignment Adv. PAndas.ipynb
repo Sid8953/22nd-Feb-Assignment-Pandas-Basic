{
 "cells": [
  {
   "cell_type": "markdown",
   "id": "5f3ba82c-2414-4ccb-a66a-a870e72543de",
   "metadata": {},
   "source": [
    "# Ans 1"
   ]
  },
  {
   "cell_type": "markdown",
   "id": "af6e09fa-e1b3-487e-bbfc-fa922f45b7ac",
   "metadata": {},
   "source": [
    "read_csv(): This function is used to read a CSV file and create a DataFrame object.\n",
    "\n",
    "head(): This function is used to display the first few rows of a DataFrame.\n",
    "\n",
    "groupby(): This function is used to group rows of a DataFrame based on one or more columns.\n",
    "\n",
    "fillna(): This function is used to replace missing values (NaN) in a DataFrame with a specified value.\n",
    "\n",
    "plot(): This function is used to create plots from data in a DataFrame."
   ]
  },
  {
   "cell_type": "markdown",
   "id": "3d82217f-84df-4b8a-ae67-db75486f1eb2",
   "metadata": {},
   "source": [
    "# Ans 2"
   ]
  },
  {
   "cell_type": "code",
   "execution_count": 1,
   "id": "97b01c9d-0957-4f49-9fc8-7ed80c6acd65",
   "metadata": {},
   "outputs": [],
   "source": [
    "import pandas as pd\n",
    "\n",
    "def reindex_df(df):\n",
    "    new_index = pd.RangeIndex(start=1, step=2, stop=len(df)*2)\n",
    "    return df.reindex(new_index)"
   ]
  },
  {
   "cell_type": "markdown",
   "id": "cd59c473-bb57-4e7c-9f5b-6661df33fbed",
   "metadata": {},
   "source": [
    "# Ans 3"
   ]
  },
  {
   "cell_type": "code",
   "execution_count": 2,
   "id": "b07e3736-001c-4b8d-b0ab-988a412b9538",
   "metadata": {},
   "outputs": [
    {
     "name": "stdout",
     "output_type": "stream",
     "text": [
      "Sum of the first three values in 'Values' column:  60\n"
     ]
    }
   ],
   "source": [
    "import pandas as pd\n",
    "\n",
    "def sum_first_three(df):\n",
    "    values_sum = 0\n",
    "    for i in range(3):\n",
    "        values_sum += df['Values'][i]\n",
    "    print(\"Sum of the first three values in 'Values' column: \", values_sum)\n",
    "\n",
    "df = pd.DataFrame()\n",
    "df['Values']= [10, 20, 30, 40, 50]\n",
    "sum_first_three(df)"
   ]
  },
  {
   "cell_type": "markdown",
   "id": "8a87a3fd-8ea0-4fa9-aefa-7e3cc0c36edf",
   "metadata": {},
   "source": [
    "# Ans 4"
   ]
  },
  {
   "cell_type": "code",
   "execution_count": 3,
   "id": "f6cc8828-9a6c-4e94-a166-7feb175e118f",
   "metadata": {},
   "outputs": [
    {
     "data": {
      "text/html": [
       "<div>\n",
       "<style scoped>\n",
       "    .dataframe tbody tr th:only-of-type {\n",
       "        vertical-align: middle;\n",
       "    }\n",
       "\n",
       "    .dataframe tbody tr th {\n",
       "        vertical-align: top;\n",
       "    }\n",
       "\n",
       "    .dataframe thead th {\n",
       "        text-align: right;\n",
       "    }\n",
       "</style>\n",
       "<table border=\"1\" class=\"dataframe\">\n",
       "  <thead>\n",
       "    <tr style=\"text-align: right;\">\n",
       "      <th></th>\n",
       "      <th>Text</th>\n",
       "      <th>Word_Count</th>\n",
       "    </tr>\n",
       "  </thead>\n",
       "  <tbody>\n",
       "  </tbody>\n",
       "</table>\n",
       "</div>"
      ],
      "text/plain": [
       "Empty DataFrame\n",
       "Columns: [Text, Word_Count]\n",
       "Index: []"
      ]
     },
     "execution_count": 3,
     "metadata": {},
     "output_type": "execute_result"
    }
   ],
   "source": [
    "import pandas as pd\n",
    "def createNewCol(df):\n",
    "    df['Word_Count'] = []\n",
    "    return df\n",
    "df = pd.DataFrame()\n",
    "df['Text'] = []\n",
    "createNewCol(df)"
   ]
  },
  {
   "cell_type": "markdown",
   "id": "66b9a5cf-f1e6-47bb-abc8-db0c73d019c0",
   "metadata": {},
   "source": [
    "# Ans 5"
   ]
  },
  {
   "cell_type": "markdown",
   "id": "5c9674a4-d847-4d04-a8f3-b4dfb1636541",
   "metadata": {},
   "source": [
    "DataFrame.size and DataFrame.shape are two different attributes of a pandas DataFrame object that provide different information about the DataFrame:\n",
    "\n",
    "DataFrame.size: This attribute returns the total number of elements in the DataFrame, which is equal to the product of the number of rows and columns. For example, if a DataFrame has 5 rows and 3 columns, df.size will return 15.\n",
    "\n",
    "DataFrame.shape: This attribute returns a tuple containing the number of rows and columns in the DataFrame, respectively. For example, if a DataFrame has 5 rows and 3 columns, df.shape will return (5, 3).\n",
    "\n",
    "In summary, DataFrame.size returns the total number of elements in the DataFrame, while DataFrame.shape returns the number of rows and columns as a tuple. Both attributes can be useful in different contexts depending on the information you need about the DataFrame."
   ]
  },
  {
   "cell_type": "markdown",
   "id": "ced6fcad-5087-4ec6-a6bc-62958e38d90a",
   "metadata": {},
   "source": [
    "# Ans 6\n",
    "read_excel()"
   ]
  },
  {
   "cell_type": "markdown",
   "id": "aa4df3bd-f054-49b6-a453-46ab76a6a89e",
   "metadata": {},
   "source": [
    "# Ans 7"
   ]
  },
  {
   "cell_type": "code",
   "execution_count": 4,
   "id": "72454906-1d6d-4888-b2d5-5585c4884dbf",
   "metadata": {},
   "outputs": [
    {
     "data": {
      "text/html": [
       "<div>\n",
       "<style scoped>\n",
       "    .dataframe tbody tr th:only-of-type {\n",
       "        vertical-align: middle;\n",
       "    }\n",
       "\n",
       "    .dataframe tbody tr th {\n",
       "        vertical-align: top;\n",
       "    }\n",
       "\n",
       "    .dataframe thead th {\n",
       "        text-align: right;\n",
       "    }\n",
       "</style>\n",
       "<table border=\"1\" class=\"dataframe\">\n",
       "  <thead>\n",
       "    <tr style=\"text-align: right;\">\n",
       "      <th></th>\n",
       "      <th>Email</th>\n",
       "      <th>Username</th>\n",
       "    </tr>\n",
       "  </thead>\n",
       "  <tbody>\n",
       "    <tr>\n",
       "      <th>0</th>\n",
       "      <td>username@domain.com</td>\n",
       "      <td>username</td>\n",
       "    </tr>\n",
       "    <tr>\n",
       "      <th>1</th>\n",
       "      <td>john.doe@example.com</td>\n",
       "      <td>john.doe</td>\n",
       "    </tr>\n",
       "  </tbody>\n",
       "</table>\n",
       "</div>"
      ],
      "text/plain": [
       "                  Email  Username\n",
       "0   username@domain.com  username\n",
       "1  john.doe@example.com  john.doe"
      ]
     },
     "execution_count": 4,
     "metadata": {},
     "output_type": "execute_result"
    }
   ],
   "source": [
    "import pandas as pd\n",
    "\n",
    "def extract_username(df):\n",
    "    df['Username'] = df['Email'].str.split('@').str[0]\n",
    "    return df\n",
    "\n",
    "df = pd.DataFrame()\n",
    "df['Email'] = ['username@domain.com', 'john.doe@example.com']\n",
    "extract_username(df)"
   ]
  },
  {
   "cell_type": "markdown",
   "id": "fe8757fb-77a4-47c5-81d7-040639532b91",
   "metadata": {},
   "source": [
    "# Ans 8"
   ]
  },
  {
   "cell_type": "code",
   "execution_count": 5,
   "id": "f2baef67-b3dc-4b72-9fba-27e5ca4b907d",
   "metadata": {},
   "outputs": [
    {
     "name": "stdout",
     "output_type": "stream",
     "text": [
      "   A  B  C\n",
      "1  8  2  7\n",
      "2  6  9  4\n",
      "4  9  1  2\n"
     ]
    }
   ],
   "source": [
    "import pandas as pd\n",
    "\n",
    "def select_rows(df):\n",
    "    selected_rows = df[(df['A'] > 5) & (df['B'] < 10)]\n",
    "    return selected_rows\n",
    "\n",
    "def main():\n",
    "    # create a sample DataFrame\n",
    "    data = {'A': [3, 8, 6, 2, 9], 'B': [5, 2, 9, 3, 1], 'C': [1, 7, 4, 5, 2]}\n",
    "    df = pd.DataFrame(data)\n",
    "\n",
    "    # select rows where A > 5 and B < 10\n",
    "    selected_df = select_rows(df)\n",
    "\n",
    "    # print the selected rows\n",
    "    print(selected_df)\n",
    "\n",
    "if __name__ == '__main__':\n",
    "    main()"
   ]
  },
  {
   "cell_type": "markdown",
   "id": "2e3f89d7-d54e-4bf9-ae19-01f7f4383e32",
   "metadata": {},
   "source": [
    "# Ans 9"
   ]
  },
  {
   "cell_type": "code",
   "execution_count": 6,
   "id": "43b99041-dabd-4417-855c-fe6bb9b95721",
   "metadata": {},
   "outputs": [
    {
     "name": "stdout",
     "output_type": "stream",
     "text": [
      "Mean: 30.0, Median: 30.0, Standard deviation: 15.811388300841896\n"
     ]
    }
   ],
   "source": [
    "import pandas as pd\n",
    "\n",
    "def calculate_stats(df):\n",
    "    mean = df['Values'].mean()\n",
    "    median = df['Values'].median()\n",
    "    std = df['Values'].std()\n",
    "    return mean, median, std\n",
    "df = pd.DataFrame()\n",
    "df['Values']= [10, 20, 30, 40, 50]\n",
    "result=calculate_stats(df)\n",
    "mean = result[0]\n",
    "median = result[1]\n",
    "std = result[2]\n",
    "print(\"Mean:\",str(mean)+ \", Median:\",str(median)+ \", Standard deviation:\",str(std))"
   ]
  },
  {
   "cell_type": "markdown",
   "id": "a4626fd7-4dcd-4956-afc2-6ef7911961d9",
   "metadata": {},
   "source": [
    "# Ans 10"
   ]
  },
  {
   "cell_type": "code",
   "execution_count": 7,
   "id": "d8130822-216d-443f-bd76-35cbf917987a",
   "metadata": {},
   "outputs": [],
   "source": [
    "import pandas as pd\n",
    "\n",
    "def add_moving_average(df):\n",
    "    # Create a rolling window of size 7 for the 'Sales' column\n",
    "    rolling_sales = df['Sales'].rolling(window=7)\n",
    "\n",
    "    # Calculate the moving average for each window\n",
    "    moving_average = rolling_sales.mean()\n",
    "\n",
    "    # Add the 'MovingAverage' column to the DataFrame\n",
    "    df['MovingAverage'] = moving_average\n",
    "\n",
    "    return df"
   ]
  },
  {
   "cell_type": "markdown",
   "id": "6d3c124b-9dca-4f8e-aff9-7424469e73e8",
   "metadata": {},
   "source": [
    "# Ans 11"
   ]
  },
  {
   "cell_type": "code",
   "execution_count": 8,
   "id": "0a51cc2c-8295-4dc8-a984-f020fe7e0083",
   "metadata": {},
   "outputs": [
    {
     "name": "stdout",
     "output_type": "stream",
     "text": [
      "        Date    Weekday\n",
      "0 2023-01-01     Sunday\n",
      "1 2023-01-02     Monday\n",
      "2 2023-01-03    Tuesday\n",
      "3 2023-01-04  Wednesday\n",
      "4 2023-01-05   Thursday\n"
     ]
    }
   ],
   "source": [
    "import pandas as pd\n",
    "\n",
    "def add_weekday(df):\n",
    "    df['Date'] = pd.to_datetime(df['Date'])\n",
    "    df['Weekday'] = df['Date'].dt.day_name()\n",
    "    return df\n",
    "\n",
    "def main():\n",
    "    df = pd.DataFrame({'Date': ['2023-01-01', '2023-01-02', '2023-01-03', '2023-01-04', '2023-01-05']})\n",
    "    df = add_weekday(df)\n",
    "    print(df)\n",
    "\n",
    "if __name__ == '__main__':\n",
    "    main()"
   ]
  },
  {
   "cell_type": "markdown",
   "id": "cafbf69c-90e8-4975-822d-26ebc973378f",
   "metadata": {},
   "source": [
    "# Ans 12"
   ]
  },
  {
   "cell_type": "code",
   "execution_count": 9,
   "id": "18c0ef5b-a0b2-49c3-9b88-b989bee9d760",
   "metadata": {},
   "outputs": [
    {
     "name": "stdout",
     "output_type": "stream",
     "text": [
      "Original DataFrame:\n",
      "         Date\n",
      "0  2022-12-31\n",
      "1  2023-01-01\n",
      "2  2023-01-15\n",
      "3  2023-01-31\n",
      "4  2023-02-15\n",
      "\n",
      "DataFrame with January dates only:\n",
      "        Date\n",
      "1 2023-01-01\n",
      "2 2023-01-15\n",
      "3 2023-01-31\n"
     ]
    }
   ],
   "source": [
    "import pandas as pd\n",
    "\n",
    "def select_january_dates(df):\n",
    "    df['Date'] = pd.to_datetime(df['Date'])\n",
    "    start_date = '2023-01-01'\n",
    "    end_date = '2023-01-31'\n",
    "    mask = (df['Date'] >= start_date) & (df['Date'] <= end_date)\n",
    "    return df.loc[mask]\n",
    "\n",
    "def main():\n",
    "    df = pd.DataFrame({'Date': ['2022-12-31', '2023-01-01', '2023-01-15', '2023-01-31', '2023-02-15']})\n",
    "    print(\"Original DataFrame:\")\n",
    "    print(df)\n",
    "    df = select_january_dates(df)\n",
    "    print(\"\\nDataFrame with January dates only:\")\n",
    "    print(df)\n",
    "\n",
    "if __name__ == '__main__':\n",
    "    main()"
   ]
  },
  {
   "cell_type": "markdown",
   "id": "32073c1e-b27a-4b40-95b8-cc20f2a21525",
   "metadata": {},
   "source": [
    "# Ans 13"
   ]
  },
  {
   "cell_type": "code",
   "execution_count": null,
   "id": "73785bd6-ab81-466a-a4e3-71e0e03a2acc",
   "metadata": {},
   "outputs": [],
   "source": [
    "import pandas as pd"
   ]
  }
 ],
 "metadata": {
  "kernelspec": {
   "display_name": "Python 3 (ipykernel)",
   "language": "python",
   "name": "python3"
  },
  "language_info": {
   "codemirror_mode": {
    "name": "ipython",
    "version": 3
   },
   "file_extension": ".py",
   "mimetype": "text/x-python",
   "name": "python",
   "nbconvert_exporter": "python",
   "pygments_lexer": "ipython3",
   "version": "3.10.8"
  }
 },
 "nbformat": 4,
 "nbformat_minor": 5
}
